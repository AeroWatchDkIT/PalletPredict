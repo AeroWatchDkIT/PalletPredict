{
 "cells": [
  {
   "cell_type": "code",
   "execution_count": null,
   "metadata": {},
   "outputs": [],
   "source": [
    "import numpy as np\n",
    "import matplotlib.pyplot as plt\n",
    "import keras\n",
    "from keras.models import Sequential\n",
    "from keras.optimizers import Adam\n",
    "from keras.layers import Dense, Convolution2D, MaxPooling2D, Dropout, Flatten\n",
    "import cv2\n",
    "import pandas as pd\n",
    "import random\n",
    "import os\n",
    "import ntpath\n",
    "from sklearn.utils import shuffle\n",
    "from sklearn.model_selection import train_test_split\n",
    "import matplotlib.image as mpimg\n",
    "import imgaug as ia\n",
    "import imgaug.augmenters as iaa\n",
    "from tensorflow.keras.callbacks import EarlyStopping"
   ]
  },
  {
   "cell_type": "code",
   "execution_count": null,
   "metadata": {},
   "outputs": [],
   "source": [
    "import os\n",
    "import cv2\n",
    "from matplotlib import pyplot as plt\n",
    "\n",
    "def load_and_display_images(folder_path):\n",
    "    images = []\n",
    "    image_names = []\n",
    "\n",
    "    if os.path.isdir(folder_path):\n",
    "        files = os.listdir(folder_path)\n",
    "        files.sort() \n",
    "\n",
    "        for file_name in files:\n",
    "            file_path = os.path.join(folder_path, file_name)\n",
    "            img = cv2.imread(file_path)\n",
    "\n",
    "            # Display image\n",
    "            plt.imshow(cv2.cvtColor(img, cv2.COLOR_BGR2RGB))\n",
    "            plt.title(file_name)\n",
    "            plt.axis('off')\n",
    "            plt.show()\n",
    "\n",
    "            images.append(img)\n",
    "            image_names.append(file_name)\n",
    "\n",
    "    return images, image_names\n",
    "\n",
    "folder_path = \"cnn_images/processed_images\"\n",
    "captured_images, image_names = load_and_display_images(folder_path)\n"
   ]
  }
 ],
 "metadata": {
  "language_info": {
   "name": "python"
  }
 },
 "nbformat": 4,
 "nbformat_minor": 2
}
